{
  "nbformat": 4,
  "nbformat_minor": 0,
  "metadata": {
    "colab": {
      "name": "Lab01.ipynb",
      "provenance": [],
      "collapsed_sections": [],
      "authorship_tag": "ABX9TyPEAJrm7DDwUtuXLxOCrKo7",
      "include_colab_link": true
    },
    "kernelspec": {
      "name": "python3",
      "display_name": "Python 3"
    },
    "language_info": {
      "name": "python"
    }
  },
  "cells": [
    {
      "cell_type": "markdown",
      "metadata": {
        "id": "view-in-github",
        "colab_type": "text"
      },
      "source": [
        "<a href=\"https://colab.research.google.com/github/longred113/AdvancedPythonProgramming/blob/main/Lab01/Lab01.ipynb\" target=\"_parent\"><img src=\"https://colab.research.google.com/assets/colab-badge.svg\" alt=\"Open In Colab\"/></a>"
      ]
    },
    {
      "cell_type": "code",
      "metadata": {
        "colab": {
          "base_uri": "https://localhost:8080/"
        },
        "id": "85AvaNZpCUHj",
        "outputId": "c5e84f04-f652-4553-fb00-ff4ea3f2c61a"
      },
      "source": [
        "min(2, 3, 4) "
      ],
      "execution_count": 1,
      "outputs": [
        {
          "output_type": "execute_result",
          "data": {
            "text/plain": [
              "2"
            ]
          },
          "metadata": {},
          "execution_count": 1
        }
      ]
    },
    {
      "cell_type": "code",
      "metadata": {
        "colab": {
          "base_uri": "https://localhost:8080/"
        },
        "id": "hbvvY-c_I9tX",
        "outputId": "21dab782-1efd-4a69-b34b-078e09cdfdf9"
      },
      "source": [
        "max(2, -3, 4, 7, -5) "
      ],
      "execution_count": 3,
      "outputs": [
        {
          "output_type": "execute_result",
          "data": {
            "text/plain": [
              "7"
            ]
          },
          "metadata": {},
          "execution_count": 3
        }
      ]
    },
    {
      "cell_type": "code",
      "metadata": {
        "colab": {
          "base_uri": "https://localhost:8080/"
        },
        "id": "wzatSHGSJTR9",
        "outputId": "87f2554e-4420-424e-85e8-ade3d9d616f1"
      },
      "source": [
        "max(2, -3, min(4, 7), -5) "
      ],
      "execution_count": 5,
      "outputs": [
        {
          "output_type": "execute_result",
          "data": {
            "text/plain": [
              "4"
            ]
          },
          "metadata": {},
          "execution_count": 5
        }
      ]
    },
    {
      "cell_type": "code",
      "metadata": {
        "colab": {
          "base_uri": "https://localhost:8080/"
        },
        "id": "Y5tie9B-Mv3g",
        "outputId": "d3c2f8d4-3dff-462b-f3bd-98950b1618cb"
      },
      "source": [
        "min(max(3, 4), abs(-5)) "
      ],
      "execution_count": 6,
      "outputs": [
        {
          "output_type": "execute_result",
          "data": {
            "text/plain": [
              "4"
            ]
          },
          "metadata": {},
          "execution_count": 6
        }
      ]
    },
    {
      "cell_type": "code",
      "metadata": {
        "colab": {
          "base_uri": "https://localhost:8080/"
        },
        "id": "WxK0joV5NIkY",
        "outputId": "a7364d92-32cb-4e9e-e689-b9ead28fe7d4"
      },
      "source": [
        "abs(min(4, 6, max(2, 8))) "
      ],
      "execution_count": 7,
      "outputs": [
        {
          "output_type": "execute_result",
          "data": {
            "text/plain": [
              "4"
            ]
          },
          "metadata": {},
          "execution_count": 7
        }
      ]
    },
    {
      "cell_type": "code",
      "metadata": {
        "colab": {
          "base_uri": "https://localhost:8080/"
        },
        "id": "fkNCCe4tNOnK",
        "outputId": "9ede14c3-627e-412d-8719-3191f8a82a58"
      },
      "source": [
        "round(max(5.572, 3.258), abs(-2))"
      ],
      "execution_count": 8,
      "outputs": [
        {
          "output_type": "execute_result",
          "data": {
            "text/plain": [
              "5.57"
            ]
          },
          "metadata": {},
          "execution_count": 8
        }
      ]
    },
    {
      "cell_type": "code",
      "metadata": {
        "colab": {
          "base_uri": "https://localhost:8080/"
        },
        "id": "uK3dCNJxOfq-",
        "outputId": "30280224-4ba6-4d3f-e941-6e73492b67c5"
      },
      "source": [
        "def triple(num): \n",
        "    return num * 3 \n",
        "triple(3) "
      ],
      "execution_count": 18,
      "outputs": [
        {
          "output_type": "execute_result",
          "data": {
            "text/plain": [
              "9"
            ]
          },
          "metadata": {},
          "execution_count": 18
        }
      ]
    },
    {
      "cell_type": "code",
      "metadata": {
        "colab": {
          "base_uri": "https://localhost:8080/"
        },
        "id": "7x14CR-cO-te",
        "outputId": "8aaf936f-78af-452d-dcc1-45b2d75690d0"
      },
      "source": [
        "def absolute_difference(number1, number2): \n",
        "    return abs(number1 - number2) \n",
        "absolute_difference(3, 7) "
      ],
      "execution_count": 19,
      "outputs": [
        {
          "output_type": "execute_result",
          "data": {
            "text/plain": [
              "4"
            ]
          },
          "metadata": {},
          "execution_count": 19
        }
      ]
    },
    {
      "cell_type": "code",
      "metadata": {
        "colab": {
          "base_uri": "https://localhost:8080/"
        },
        "id": "GFCNPSLeQJVn",
        "outputId": "9ee5801c-2bf3-49f3-b3dc-37038eae019a"
      },
      "source": [
        "def km_to_miles(km): \n",
        "    return km / 1.6 \n",
        "km_to_miles(5)"
      ],
      "execution_count": 20,
      "outputs": [
        {
          "output_type": "execute_result",
          "data": {
            "text/plain": [
              "3.125"
            ]
          },
          "metadata": {},
          "execution_count": 20
        }
      ]
    },
    {
      "cell_type": "code",
      "metadata": {
        "colab": {
          "base_uri": "https://localhost:8080/"
        },
        "id": "8VuWRHSVQWDl",
        "outputId": "1250dbe5-53b7-4ac6-b346-e703c1a41a15"
      },
      "source": [
        "def average_grade(grade1, grade2, grade3):   \n",
        "    return (grade1 + grade2 + grade3) / 3  \n",
        "average_grade(80, 95, 90) \n"
      ],
      "execution_count": 21,
      "outputs": [
        {
          "output_type": "execute_result",
          "data": {
            "text/plain": [
              "88.33333333333333"
            ]
          },
          "metadata": {},
          "execution_count": 21
        }
      ]
    },
    {
      "cell_type": "code",
      "metadata": {
        "colab": {
          "base_uri": "https://localhost:8080/"
        },
        "id": "2Pd2L8XyQxTU",
        "outputId": "64b7e640-2b0b-4699-a8e0-52121b16d45d"
      },
      "source": [
        "def top_three_avg(grade1, grade2, grade3, grade4):     \n",
        "    total = grade1 + grade2 + grade3 + grade4     \n",
        "    top_three = total - min(grade1, grade2, grade3, grade4)\n",
        "    return top_three / 3     \n",
        "    return max(average_grade(grade1, grade2, grade3),  \n",
        "    average_grade(grade1, grade2, grade4), \n",
        "    average_grade(grade1, grade3, grade4), \n",
        "    average_grade(grade2, grade3, grade4)) \n",
        " \n",
        "    return (grade1 + grade2 + grade3) / 3 \n",
        "top_three_avg(50, 60, 70, 80) "
      ],
      "execution_count": 24,
      "outputs": [
        {
          "output_type": "execute_result",
          "data": {
            "text/plain": [
              "70.0"
            ]
          },
          "metadata": {},
          "execution_count": 24
        }
      ]
    },
    {
      "cell_type": "code",
      "metadata": {
        "colab": {
          "base_uri": "https://localhost:8080/"
        },
        "id": "AUs1xNRsSfE2",
        "outputId": "5336727d-1dd7-4e10-cc85-988b1660e089"
      },
      "source": [
        "def weeks_elapsed(day1, day2): \n",
        "    return (day1, day2)\n",
        "weeks_elapsed(3, 20)"
      ],
      "execution_count": 27,
      "outputs": [
        {
          "output_type": "execute_result",
          "data": {
            "text/plain": [
              "(3, 20)"
            ]
          },
          "metadata": {},
          "execution_count": 27
        }
      ]
    },
    {
      "cell_type": "code",
      "metadata": {
        "id": "ImjzQklTTH3N"
      },
      "source": [
        ""
      ],
      "execution_count": null,
      "outputs": []
    },
    {
      "cell_type": "markdown",
      "metadata": {
        "id": "fAZmVMmbI_WP"
      },
      "source": [
        ""
      ]
    }
  ]
}