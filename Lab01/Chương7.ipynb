{
  "nbformat": 4,
  "nbformat_minor": 0,
  "metadata": {
    "colab": {
      "name": "Chương7.ipynb",
      "provenance": [],
      "authorship_tag": "ABX9TyNxEFX3Q9z5ilI8Ho7Rl1c1",
      "include_colab_link": true
    },
    "kernelspec": {
      "name": "python3",
      "display_name": "Python 3"
    },
    "language_info": {
      "name": "python"
    }
  },
  "cells": [
    {
      "cell_type": "markdown",
      "metadata": {
        "id": "view-in-github",
        "colab_type": "text"
      },
      "source": [
        "<a href=\"https://colab.research.google.com/github/longred113/AdvancedPythonProgramming/blob/main/Lab01/Ch%C6%B0%C6%A1ng7.ipynb\" target=\"_parent\"><img src=\"https://colab.research.google.com/assets/colab-badge.svg\" alt=\"Open In Colab\"/></a>"
      ]
    },
    {
      "cell_type": "code",
      "metadata": {
        "id": "Bgr3mN2VegHS",
        "colab": {
          "base_uri": "https://localhost:8080/",
          "height": 35
        },
        "outputId": "806fcbd3-f090-41f9-c18b-a59a7383a654"
      },
      "source": [
        "'hello'.upper() "
      ],
      "execution_count": null,
      "outputs": [
        {
          "output_type": "execute_result",
          "data": {
            "application/vnd.google.colaboratory.intrinsic+json": {
              "type": "string"
            },
            "text/plain": [
              "'HELLO'"
            ]
          },
          "metadata": {},
          "execution_count": 1
        }
      ]
    },
    {
      "cell_type": "code",
      "metadata": {
        "colab": {
          "base_uri": "https://localhost:8080/",
          "height": 35
        },
        "id": "fNwyZPoP7Vxt",
        "outputId": "385bafd8-d118-43fb-8af9-5505a183a90f"
      },
      "source": [
        "'Happy Birthday!'.lower() "
      ],
      "execution_count": null,
      "outputs": [
        {
          "output_type": "execute_result",
          "data": {
            "application/vnd.google.colaboratory.intrinsic+json": {
              "type": "string"
            },
            "text/plain": [
              "'happy birthday!'"
            ]
          },
          "metadata": {},
          "execution_count": 2
        }
      ]
    },
    {
      "cell_type": "code",
      "metadata": {
        "colab": {
          "base_uri": "https://localhost:8080/"
        },
        "id": "NC-ACIrD7nu5",
        "outputId": "4f079744-9bf0-4a2a-b5d0-11518d769553"
      },
      "source": [
        "'ABC123'.isupper() "
      ],
      "execution_count": null,
      "outputs": [
        {
          "output_type": "execute_result",
          "data": {
            "text/plain": [
              "True"
            ]
          },
          "metadata": {},
          "execution_count": 3
        }
      ]
    },
    {
      "cell_type": "code",
      "metadata": {
        "colab": {
          "base_uri": "https://localhost:8080/"
        },
        "id": "cVzyexX67vT7",
        "outputId": "8be59a77-4a57-432e-cce4-9a828f06aa0f"
      },
      "source": [
        "'aeiouAEIOU'.count('a') "
      ],
      "execution_count": null,
      "outputs": [
        {
          "output_type": "execute_result",
          "data": {
            "text/plain": [
              "1"
            ]
          },
          "metadata": {},
          "execution_count": 4
        }
      ]
    },
    {
      "cell_type": "code",
      "metadata": {
        "colab": {
          "base_uri": "https://localhost:8080/"
        },
        "id": "5rqSikEg71_R",
        "outputId": "83baab01-092a-47a2-c342-a20f9dff01fd"
      },
      "source": [
        "'hello'.endswith('o') "
      ],
      "execution_count": null,
      "outputs": [
        {
          "output_type": "execute_result",
          "data": {
            "text/plain": [
              "True"
            ]
          },
          "metadata": {},
          "execution_count": 6
        }
      ]
    },
    {
      "cell_type": "code",
      "metadata": {
        "colab": {
          "base_uri": "https://localhost:8080/"
        },
        "id": "MR8ZrPeJ77mJ",
        "outputId": "b0b0f3e4-625a-4a8c-dc9c-901b6051949d"
      },
      "source": [
        "'hello'.startswith('H') "
      ],
      "execution_count": null,
      "outputs": [
        {
          "output_type": "execute_result",
          "data": {
            "text/plain": [
              "False"
            ]
          },
          "metadata": {},
          "execution_count": 7
        }
      ]
    },
    {
      "cell_type": "code",
      "metadata": {
        "colab": {
          "base_uri": "https://localhost:8080/",
          "height": 35
        },
        "id": "7tqqeNss8Jar",
        "outputId": "08d7de99-c571-401c-ce60-cde9774ba69a"
      },
      "source": [
        "'Hello {0}'.format('Python') "
      ],
      "execution_count": null,
      "outputs": [
        {
          "output_type": "execute_result",
          "data": {
            "application/vnd.google.colaboratory.intrinsic+json": {
              "type": "string"
            },
            "text/plain": [
              "'Hello Python'"
            ]
          },
          "metadata": {},
          "execution_count": 8
        }
      ]
    },
    {
      "cell_type": "code",
      "metadata": {
        "colab": {
          "base_uri": "https://localhost:8080/",
          "height": 35
        },
        "id": "i3jAxnnc7-up",
        "outputId": "bc48c474-0a6b-43f0-f73a-4ec0b2c1e36b"
      },
      "source": [
        "'Hello {0}! Hello {1}!'.format('Python', 'World') "
      ],
      "execution_count": null,
      "outputs": [
        {
          "output_type": "execute_result",
          "data": {
            "application/vnd.google.colaboratory.intrinsic+json": {
              "type": "string"
            },
            "text/plain": [
              "'Hello Python! Hello World!'"
            ]
          },
          "metadata": {},
          "execution_count": 9
        }
      ]
    },
    {
      "cell_type": "code",
      "metadata": {
        "colab": {
          "base_uri": "https://localhost:8080/"
        },
        "id": "Xz2judIV8dC4",
        "outputId": "5efe2f18-ecef-4a76-a386-08df772f6526"
      },
      "source": [
        "'tomato'.count('o')"
      ],
      "execution_count": null,
      "outputs": [
        {
          "output_type": "execute_result",
          "data": {
            "text/plain": [
              "2"
            ]
          },
          "metadata": {},
          "execution_count": 10
        }
      ]
    },
    {
      "cell_type": "code",
      "metadata": {
        "colab": {
          "base_uri": "https://localhost:8080/"
        },
        "id": "8D64a3d783iK",
        "outputId": "66209966-8194-4ce9-bca6-f9636f424049"
      },
      "source": [
        "'tomato'.find('o')"
      ],
      "execution_count": null,
      "outputs": [
        {
          "output_type": "execute_result",
          "data": {
            "text/plain": [
              "1"
            ]
          },
          "metadata": {},
          "execution_count": 11
        }
      ]
    },
    {
      "cell_type": "code",
      "metadata": {
        "colab": {
          "base_uri": "https://localhost:8080/"
        },
        "id": "ebL6WUA49Bnk",
        "outputId": "07717b5f-e166-440f-f9cd-46eb8f5ec229"
      },
      "source": [
        "'tomato'.find('o', 'tomato'.find('o') + 1)"
      ],
      "execution_count": null,
      "outputs": [
        {
          "output_type": "execute_result",
          "data": {
            "text/plain": [
              "5"
            ]
          },
          "metadata": {},
          "execution_count": 23
        }
      ]
    },
    {
      "cell_type": "code",
      "metadata": {
        "colab": {
          "base_uri": "https://localhost:8080/"
        },
        "id": "hKR0Fxqn_Fq-",
        "outputId": "ab9f6a1d-67ce-4b20-ade1-ee063e04e1f6"
      },
      "source": [
        "'avocado'.find('o', 'avocado'.find('o') + 1)"
      ],
      "execution_count": null,
      "outputs": [
        {
          "output_type": "execute_result",
          "data": {
            "text/plain": [
              "6"
            ]
          },
          "metadata": {},
          "execution_count": 24
        }
      ]
    },
    {
      "cell_type": "code",
      "metadata": {
        "colab": {
          "base_uri": "https://localhost:8080/",
          "height": 35
        },
        "id": "FdgIzT96_pxZ",
        "outputId": "92177015-5137-4836-cfca-d0d51bc410fc"
      },
      "source": [
        "'runner'.replace('n','b')"
      ],
      "execution_count": null,
      "outputs": [
        {
          "output_type": "execute_result",
          "data": {
            "application/vnd.google.colaboratory.intrinsic+json": {
              "type": "string"
            },
            "text/plain": [
              "'rubber'"
            ]
          },
          "metadata": {},
          "execution_count": 16
        }
      ]
    },
    {
      "cell_type": "code",
      "metadata": {
        "id": "goYd8_ZMDdie"
      },
      "source": [
        "strip"
      ],
      "execution_count": null,
      "outputs": []
    },
    {
      "cell_type": "code",
      "metadata": {
        "id": "eGqP257cAeP4"
      },
      "source": [
        "fruit = 'pineapple'\n",
        "fruit.count('p') then fruit.find('p', 3)"
      ],
      "execution_count": null,
      "outputs": []
    },
    {
      "cell_type": "code",
      "metadata": {
        "id": "vK5Sc-8XA3qp"
      },
      "source": [
        "fruit = 'pineapple'\n",
        "fruit.upper() then 'PINEAPPLE'.swapcase() then fruit.count('pineapple') "
      ],
      "execution_count": null,
      "outputs": []
    },
    {
      "cell_type": "code",
      "metadata": {
        "id": "upKMvEXlA8Et"
      },
      "source": [
        "fruit = 'pineapple'\n",
        "fruit.swapcase() then fruit.lower() then fruit.replace('PINEAPPLE', 'pineapple')"
      ],
      "execution_count": null,
      "outputs": []
    },
    {
      "cell_type": "code",
      "metadata": {
        "colab": {
          "base_uri": "https://localhost:8080/",
          "height": 35
        },
        "id": "Z3t4tMfwD6i0",
        "outputId": "a38b071e-7824-4605-d547-efadb608a0f1"
      },
      "source": [
        "season = 'summer'\n",
        "'I love {0}!'.format(season)"
      ],
      "execution_count": null,
      "outputs": [
        {
          "output_type": "execute_result",
          "data": {
            "application/vnd.google.colaboratory.intrinsic+json": {
              "type": "string"
            },
            "text/plain": [
              "'I love summer!'"
            ]
          },
          "metadata": {},
          "execution_count": 32
        }
      ]
    },
    {
      "cell_type": "code",
      "metadata": {
        "colab": {
          "base_uri": "https://localhost:8080/",
          "height": 35
        },
        "id": "GX3x6uoBEN29",
        "outputId": "f4ae6354-e994-4caa-b30e-60ac3fdc04e2"
      },
      "source": [
        "side1 = 3\n",
        "side2 = 4\n",
        "side3 = 5\n",
        "'The sides have lengths {0}, {1}, and {2}.'.format(side1, side2, side3)"
      ],
      "execution_count": null,
      "outputs": [
        {
          "output_type": "execute_result",
          "data": {
            "application/vnd.google.colaboratory.intrinsic+json": {
              "type": "string"
            },
            "text/plain": [
              "'The sides have lengths 3, 4, and 5.'"
            ]
          },
          "metadata": {},
          "execution_count": 34
        }
      ]
    },
    {
      "cell_type": "code",
      "metadata": {
        "colab": {
          "base_uri": "https://localhost:8080/",
          "height": 35
        },
        "id": "MnLSp6yvE2j0",
        "outputId": "7a769cd8-c81e-4a8b-ef39-8daf3664a53e"
      },
      "source": [
        "'boolean'.capitalize()"
      ],
      "execution_count": null,
      "outputs": [
        {
          "output_type": "execute_result",
          "data": {
            "application/vnd.google.colaboratory.intrinsic+json": {
              "type": "string"
            },
            "text/plain": [
              "'Boolean'"
            ]
          },
          "metadata": {},
          "execution_count": 35
        }
      ]
    },
    {
      "cell_type": "code",
      "metadata": {
        "colab": {
          "base_uri": "https://localhost:8080/"
        },
        "id": "0lSqhJp1E4cT",
        "outputId": "a1cde37f-cf29-45e0-cb6c-87f8898aa569"
      },
      "source": [
        "'CO2 H2O'.find('2')"
      ],
      "execution_count": null,
      "outputs": [
        {
          "output_type": "execute_result",
          "data": {
            "text/plain": [
              "2"
            ]
          },
          "metadata": {},
          "execution_count": 36
        }
      ]
    },
    {
      "cell_type": "code",
      "metadata": {
        "colab": {
          "base_uri": "https://localhost:8080/"
        },
        "id": "acQyrZBNFCGD",
        "outputId": "0f68a05c-1d1f-4b2a-e264-e1d1770700a1"
      },
      "source": [
        "'CO2 H2O'.find('2', 'CO2 H2O'.find('2') + 1)"
      ],
      "execution_count": null,
      "outputs": [
        {
          "output_type": "execute_result",
          "data": {
            "text/plain": [
              "5"
            ]
          },
          "metadata": {},
          "execution_count": 37
        }
      ]
    },
    {
      "cell_type": "code",
      "metadata": {
        "colab": {
          "base_uri": "https://localhost:8080/"
        },
        "id": "VYo07iyJFF-d",
        "outputId": "1848ffe1-041a-4a86-d876-b599c925dcd9"
      },
      "source": [
        "'Boolean'[0].islower()"
      ],
      "execution_count": null,
      "outputs": [
        {
          "output_type": "execute_result",
          "data": {
            "text/plain": [
              "False"
            ]
          },
          "metadata": {},
          "execution_count": 38
        }
      ]
    },
    {
      "cell_type": "code",
      "metadata": {
        "colab": {
          "base_uri": "https://localhost:8080/",
          "height": 35
        },
        "id": "YLYYvm9FFPPW",
        "outputId": "4ce1c482-d001-4e8c-8934-1a72d00fb46a"
      },
      "source": [
        "'MoNDaY'.lower().capitalize()"
      ],
      "execution_count": null,
      "outputs": [
        {
          "output_type": "execute_result",
          "data": {
            "application/vnd.google.colaboratory.intrinsic+json": {
              "type": "string"
            },
            "text/plain": [
              "'Monday'"
            ]
          },
          "metadata": {},
          "execution_count": 40
        }
      ]
    },
    {
      "cell_type": "code",
      "metadata": {
        "colab": {
          "base_uri": "https://localhost:8080/",
          "height": 35
        },
        "id": "kVC1NQLSFTdO",
        "outputId": "fc36b06e-4c09-4a4a-af69-6aadc493fe57"
      },
      "source": [
        "' Monday'.lstrip()"
      ],
      "execution_count": null,
      "outputs": [
        {
          "output_type": "execute_result",
          "data": {
            "application/vnd.google.colaboratory.intrinsic+json": {
              "type": "string"
            },
            "text/plain": [
              "'Monday'"
            ]
          },
          "metadata": {},
          "execution_count": 41
        }
      ]
    },
    {
      "cell_type": "code",
      "metadata": {
        "colab": {
          "base_uri": "https://localhost:8080/"
        },
        "id": "HwtR9MpXFri0",
        "outputId": "ae82e03a-f832-433a-ab9c-8115ac81849e"
      },
      "source": [
        "def total_occurrences(s1, s2, ch):  \n",
        "  return s1.count(ch) + s2.count(ch)\n",
        "total_occurrences('color', 'yellow', 'l') "
      ],
      "execution_count": null,
      "outputs": [
        {
          "output_type": "execute_result",
          "data": {
            "text/plain": [
              "3"
            ]
          },
          "metadata": {},
          "execution_count": 42
        }
      ]
    },
    {
      "cell_type": "code",
      "metadata": {
        "colab": {
          "base_uri": "https://localhost:8080/"
        },
        "id": "AGP4RkOBGEpC",
        "outputId": "e665e31f-d5fc-43be-f499-13bb179a1385"
      },
      "source": [
        "def total_occurrences(s1, s2, ch):  \n",
        "  return s1.count(ch) + s2.count(ch)\n",
        "total_occurrences('red', 'blue', 'l') "
      ],
      "execution_count": null,
      "outputs": [
        {
          "output_type": "execute_result",
          "data": {
            "text/plain": [
              "1"
            ]
          },
          "metadata": {},
          "execution_count": 43
        }
      ]
    },
    {
      "cell_type": "code",
      "metadata": {
        "colab": {
          "base_uri": "https://localhost:8080/"
        },
        "id": "ssIW7i09GFI6",
        "outputId": "c53f6cc3-8d04-402e-8d96-514bcae1e618"
      },
      "source": [
        "def total_occurrences(s1, s2, ch):  \n",
        "  return s1.count(ch) + s2.count(ch)\n",
        "total_occurrences('green', 'purple', 'b')"
      ],
      "execution_count": null,
      "outputs": [
        {
          "output_type": "execute_result",
          "data": {
            "text/plain": [
              "0"
            ]
          },
          "metadata": {},
          "execution_count": 45
        }
      ]
    }
  ]
}