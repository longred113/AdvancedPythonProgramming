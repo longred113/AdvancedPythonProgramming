{
  "nbformat": 4,
  "nbformat_minor": 0,
  "metadata": {
    "colab": {
      "name": "chương9.ipynb",
      "provenance": [],
      "authorship_tag": "ABX9TyNzZoArMh3H/GXz6RlQ4YQE",
      "include_colab_link": true
    },
    "kernelspec": {
      "name": "python3",
      "display_name": "Python 3"
    },
    "language_info": {
      "name": "python"
    }
  },
  "cells": [
    {
      "cell_type": "markdown",
      "metadata": {
        "id": "view-in-github",
        "colab_type": "text"
      },
      "source": [
        "<a href=\"https://colab.research.google.com/github/longred113/AdvancedPythonProgramming/blob/main/Lab02/ch%C6%B0%C6%A1ng9.ipynb\" target=\"_parent\"><img src=\"https://colab.research.google.com/assets/colab-badge.svg\" alt=\"Open In Colab\"/></a>"
      ]
    },
    {
      "cell_type": "code",
      "metadata": {
        "colab": {
          "base_uri": "https://localhost:8080/"
        },
        "id": "gKEUxTO_80NG",
        "outputId": "9a942b47-35d4-4aba-c548-bf4f6b1df1fd"
      },
      "source": [
        "celegans_phenotypes = ['Emb','Him', 'Unc', 'Lon', 'Dpy', 'Sma']\n",
        "for phenotype in celegans_phenotypes:\n",
        "  print(phenotype)"
      ],
      "execution_count": 4,
      "outputs": [
        {
          "output_type": "stream",
          "name": "stdout",
          "text": [
            "Emb\n",
            "Him\n",
            "Unc\n",
            "Lon\n",
            "Dpy\n",
            "Sma\n"
          ]
        }
      ]
    },
    {
      "cell_type": "code",
      "metadata": {
        "colab": {
          "base_uri": "https://localhost:8080/"
        },
        "id": "nVjk_pVm-a4_",
        "outputId": "92cb2ab1-903b-4a5b-d0cc-dbdb9e5174bd"
      },
      "source": [
        "half_lives = [87.74, 24110.0, 6537.0, 14.4, 376000.0]\n",
        "for value in half_lives:\n",
        "  print(value, end=' ')"
      ],
      "execution_count": 5,
      "outputs": [
        {
          "output_type": "stream",
          "name": "stdout",
          "text": [
            "87.74 24110.0 6537.0 14.4 376000.0 "
          ]
        }
      ]
    },
    {
      "cell_type": "code",
      "metadata": {
        "colab": {
          "base_uri": "https://localhost:8080/"
        },
        "id": "-8UzFw1C-vtt",
        "outputId": "19bfb858-09a5-4d13-b27e-be917082c7a4"
      },
      "source": [
        "whales = [5, 4, 7, 3, 2, 3, 2, 6, 4, 2, 1, 7, 1, 3]\n",
        "more_whales = []\n",
        "for count in whales:\n",
        "  more_whales.append(count + 1) \n",
        "more_whales"
      ],
      "execution_count": 9,
      "outputs": [
        {
          "output_type": "execute_result",
          "data": {
            "text/plain": [
              "[6, 5, 8, 4, 3, 4, 3, 7, 5, 3, 2, 8, 2, 4]"
            ]
          },
          "metadata": {},
          "execution_count": 9
        }
      ]
    },
    {
      "cell_type": "code",
      "metadata": {
        "id": "_MqnNUTP_Uid"
      },
      "source": [
        "alkaline_earth_metals = [[4, 9.012], [12, 24.305],[20, 40.078], [38, 87.62],[56, 137.327], [88, 226]]"
      ],
      "execution_count": 14,
      "outputs": []
    },
    {
      "cell_type": "code",
      "metadata": {
        "colab": {
          "base_uri": "https://localhost:8080/"
        },
        "id": "2nnxJPhw_ptW",
        "outputId": "9c6157f7-54db-4d60-b2ec-0cd2fbdc1ca6"
      },
      "source": [
        "for inner_list in alkaline_earth_metals:\n",
        "  print(inner_list[0])\n",
        "  print(inner_list[1])"
      ],
      "execution_count": 15,
      "outputs": [
        {
          "output_type": "stream",
          "name": "stdout",
          "text": [
            "4\n",
            "9.012\n",
            "12\n",
            "24.305\n",
            "20\n",
            "40.078\n",
            "38\n",
            "87.62\n",
            "56\n",
            "137.327\n",
            "88\n",
            "226\n"
          ]
        }
      ]
    },
    {
      "cell_type": "code",
      "metadata": {
        "colab": {
          "base_uri": "https://localhost:8080/"
        },
        "id": "eHbAAgvBA6wU",
        "outputId": "97d64950-43f0-44f8-d859-ad1da73d34cc"
      },
      "source": [
        "number_and_weight = []\n",
        "for inner_list in alkaline_earth_metals:\n",
        "  print(number_and_weight.append(inner_list[0]))\n",
        "  print(number_and_weight.append(inner_list[1]))"
      ],
      "execution_count": 17,
      "outputs": [
        {
          "output_type": "stream",
          "name": "stdout",
          "text": [
            "None\n",
            "None\n",
            "None\n",
            "None\n",
            "None\n",
            "None\n",
            "None\n",
            "None\n",
            "None\n",
            "None\n",
            "None\n",
            "None\n"
          ]
        }
      ]
    },
    {
      "cell_type": "code",
      "metadata": {
        "colab": {
          "base_uri": "https://localhost:8080/"
        },
        "id": "DtGKZjAnBZqZ",
        "outputId": "a1008351-dd32-4132-f040-fda49fd0865d"
      },
      "source": [
        "text = \"\"\n",
        "while text.lower() != \"quit\":\n",
        "  text = input(\"Please enter a chemical formula (or 'quit' to exit): \")\n",
        "if text == \"quit\":\n",
        "  print(\"...exiting program\")\n",
        "elif text == \"H2O\":\n",
        "  print(\"Water\")\n",
        "elif text == \"NH3\":\n",
        "  print(\"Ammonia\")\n",
        "elif text == \"CH4\":\n",
        "  print(\"Methane\")\n",
        "else:\n",
        "  print(\"Unknown compound\")\n"
      ],
      "execution_count": null,
      "outputs": [
        {
          "name": "stdout",
          "output_type": "stream",
          "text": [
            "Please enter a chemical formula (or 'quit' to exit): CH4\n"
          ]
        }
      ]
    },
    {
      "cell_type": "code",
      "metadata": {
        "id": "4FsnOgvIAcPz"
      },
      "source": [
        ""
      ],
      "execution_count": null,
      "outputs": []
    }
  ]
}